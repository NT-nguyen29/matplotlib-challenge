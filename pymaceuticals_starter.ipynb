{
 "cells": [
  {
   "cell_type": "markdown",
   "metadata": {},
   "source": [
    "## Observations and Insights "
   ]
  },
  {
   "cell_type": "markdown",
   "metadata": {},
   "source": []
  },
  {
   "cell_type": "code",
   "execution_count": 1,
   "metadata": {},
   "outputs": [
    {
     "data": {
      "text/html": [
       "<div>\n",
       "<style scoped>\n",
       "    .dataframe tbody tr th:only-of-type {\n",
       "        vertical-align: middle;\n",
       "    }\n",
       "\n",
       "    .dataframe tbody tr th {\n",
       "        vertical-align: top;\n",
       "    }\n",
       "\n",
       "    .dataframe thead th {\n",
       "        text-align: right;\n",
       "    }\n",
       "</style>\n",
       "<table border=\"1\" class=\"dataframe\">\n",
       "  <thead>\n",
       "    <tr style=\"text-align: right;\">\n",
       "      <th></th>\n",
       "      <th>Mouse ID</th>\n",
       "      <th>Drug Regimen</th>\n",
       "      <th>Sex</th>\n",
       "      <th>Age_months</th>\n",
       "      <th>Weight (g)</th>\n",
       "      <th>Timepoint</th>\n",
       "      <th>Tumor Volume (mm3)</th>\n",
       "      <th>Metastatic Sites</th>\n",
       "    </tr>\n",
       "  </thead>\n",
       "  <tbody>\n",
       "    <tr>\n",
       "      <th>0</th>\n",
       "      <td>k403</td>\n",
       "      <td>Ramicane</td>\n",
       "      <td>Male</td>\n",
       "      <td>21</td>\n",
       "      <td>16</td>\n",
       "      <td>0</td>\n",
       "      <td>45.000000</td>\n",
       "      <td>0</td>\n",
       "    </tr>\n",
       "    <tr>\n",
       "      <th>1</th>\n",
       "      <td>k403</td>\n",
       "      <td>Ramicane</td>\n",
       "      <td>Male</td>\n",
       "      <td>21</td>\n",
       "      <td>16</td>\n",
       "      <td>5</td>\n",
       "      <td>38.825898</td>\n",
       "      <td>0</td>\n",
       "    </tr>\n",
       "    <tr>\n",
       "      <th>2</th>\n",
       "      <td>k403</td>\n",
       "      <td>Ramicane</td>\n",
       "      <td>Male</td>\n",
       "      <td>21</td>\n",
       "      <td>16</td>\n",
       "      <td>10</td>\n",
       "      <td>35.014271</td>\n",
       "      <td>1</td>\n",
       "    </tr>\n",
       "    <tr>\n",
       "      <th>3</th>\n",
       "      <td>k403</td>\n",
       "      <td>Ramicane</td>\n",
       "      <td>Male</td>\n",
       "      <td>21</td>\n",
       "      <td>16</td>\n",
       "      <td>15</td>\n",
       "      <td>34.223992</td>\n",
       "      <td>1</td>\n",
       "    </tr>\n",
       "    <tr>\n",
       "      <th>4</th>\n",
       "      <td>k403</td>\n",
       "      <td>Ramicane</td>\n",
       "      <td>Male</td>\n",
       "      <td>21</td>\n",
       "      <td>16</td>\n",
       "      <td>20</td>\n",
       "      <td>32.997729</td>\n",
       "      <td>1</td>\n",
       "    </tr>\n",
       "  </tbody>\n",
       "</table>\n",
       "</div>"
      ],
      "text/plain": [
       "  Mouse ID Drug Regimen   Sex  Age_months  Weight (g)  Timepoint  \\\n",
       "0     k403     Ramicane  Male          21          16          0   \n",
       "1     k403     Ramicane  Male          21          16          5   \n",
       "2     k403     Ramicane  Male          21          16         10   \n",
       "3     k403     Ramicane  Male          21          16         15   \n",
       "4     k403     Ramicane  Male          21          16         20   \n",
       "\n",
       "   Tumor Volume (mm3)  Metastatic Sites  \n",
       "0           45.000000                 0  \n",
       "1           38.825898                 0  \n",
       "2           35.014271                 1  \n",
       "3           34.223992                 1  \n",
       "4           32.997729                 1  "
      ]
     },
     "execution_count": 1,
     "metadata": {},
     "output_type": "execute_result"
    }
   ],
   "source": [
    "# Dependencies and Setup\n",
    "import matplotlib.pyplot as plt\n",
    "import pandas as pd\n",
    "import scipy.stats as st\n",
    "import numpy as np\n",
    "\n",
    "# Study data files\n",
    "mouse_metadata_path = \"data/Mouse_metadata.csv\"\n",
    "study_results_path = \"data/Study_results.csv\"\n",
    "\n",
    "# Read the mouse data and the study results\n",
    "mouse_metadata = pd.read_csv(mouse_metadata_path)\n",
    "study_results = pd.read_csv(study_results_path)\n",
    "\n",
    "# Combine the data into a single dataset\n",
    "mouse_study = pd.merge(mouse_metadata, study_results, how=\"left\", on=[\"Mouse ID\", \"Mouse ID\"])\n",
    "\n",
    "# Display the data table for preview\n",
    "mouse_study.head()"
   ]
  },
  {
   "cell_type": "code",
   "execution_count": 2,
   "metadata": {},
   "outputs": [
    {
     "data": {
      "text/plain": [
       "249"
      ]
     },
     "execution_count": 2,
     "metadata": {},
     "output_type": "execute_result"
    }
   ],
   "source": [
    "# Checking the number of mice.\n",
    "len(mouse_study[\"Mouse ID\"].unique())"
   ]
  },
  {
   "cell_type": "code",
   "execution_count": 3,
   "metadata": {},
   "outputs": [
    {
     "name": "stdout",
     "output_type": "stream",
     "text": [
      "('g989', 0)\n",
      "('g989', 0)\n",
      "('g989', 5)\n",
      "('g989', 5)\n",
      "('g989', 10)\n",
      "('g989', 10)\n",
      "('g989', 15)\n",
      "('g989', 15)\n",
      "('g989', 20)\n",
      "('g989', 20)\n"
     ]
    }
   ],
   "source": [
    "# Getting the duplicate mice by ID number that shows up for Mouse ID and Timepoint. \n",
    "# zip into list of tuples\n",
    "mouse_times = list(zip(mouse_study['Mouse ID'], mouse_study['Timepoint']))\n",
    "\n",
    "# iterate tuples\n",
    "for element in mouse_times:\n",
    "    \n",
    "    # dictionary containing tuple and number of times tuple appears in list\n",
    "    duplicate_search = {element: mouse_times.count(element)}\n",
    "    \n",
    "    # multiple occurences = duplicates\n",
    "    if mouse_times.count(element) > 1:\n",
    "        print(element)\n",
    "    "
   ]
  },
  {
   "cell_type": "code",
   "execution_count": 4,
   "metadata": {},
   "outputs": [
    {
     "name": "stdout",
     "output_type": "stream",
     "text": [
      "         Drug Regimen     Sex  Age_months  Weight (g)  Timepoint  \\\n",
      "Mouse ID                                                           \n",
      "g989         Propriva  Female          21          26          0   \n",
      "g989         Propriva  Female          21          26          0   \n",
      "g989         Propriva  Female          21          26          5   \n",
      "g989         Propriva  Female          21          26          5   \n",
      "g989         Propriva  Female          21          26         10   \n",
      "g989         Propriva  Female          21          26         10   \n",
      "g989         Propriva  Female          21          26         15   \n",
      "g989         Propriva  Female          21          26         15   \n",
      "g989         Propriva  Female          21          26         20   \n",
      "g989         Propriva  Female          21          26         20   \n",
      "g989         Propriva  Female          21          26         25   \n",
      "g989         Propriva  Female          21          26         30   \n",
      "g989         Propriva  Female          21          26         35   \n",
      "\n",
      "          Tumor Volume (mm3)  Metastatic Sites  \n",
      "Mouse ID                                        \n",
      "g989               45.000000                 0  \n",
      "g989               45.000000                 0  \n",
      "g989               48.786801                 0  \n",
      "g989               47.570392                 0  \n",
      "g989               51.745156                 0  \n",
      "g989               49.880528                 0  \n",
      "g989               51.325852                 1  \n",
      "g989               53.442020                 0  \n",
      "g989               55.326122                 1  \n",
      "g989               54.657650                 1  \n",
      "g989               56.045564                 1  \n",
      "g989               59.082294                 1  \n",
      "g989               62.570880                 2  \n"
     ]
    }
   ],
   "source": [
    "# Optional: Get all the data for the duplicate mouse ID. \n",
    "mouse_study = mouse_study.set_index('Mouse ID')\n",
    "print(mouse_study.loc['g989'])"
   ]
  },
  {
   "cell_type": "code",
   "execution_count": 5,
   "metadata": {},
   "outputs": [
    {
     "data": {
      "text/html": [
       "<div>\n",
       "<style scoped>\n",
       "    .dataframe tbody tr th:only-of-type {\n",
       "        vertical-align: middle;\n",
       "    }\n",
       "\n",
       "    .dataframe tbody tr th {\n",
       "        vertical-align: top;\n",
       "    }\n",
       "\n",
       "    .dataframe thead th {\n",
       "        text-align: right;\n",
       "    }\n",
       "</style>\n",
       "<table border=\"1\" class=\"dataframe\">\n",
       "  <thead>\n",
       "    <tr style=\"text-align: right;\">\n",
       "      <th></th>\n",
       "      <th>Drug Regimen</th>\n",
       "      <th>Sex</th>\n",
       "      <th>Age (months)</th>\n",
       "      <th>Weight (g)</th>\n",
       "      <th>Timepoint</th>\n",
       "      <th>Tumor Volume (mm3)</th>\n",
       "      <th>Metastatic Sites</th>\n",
       "    </tr>\n",
       "    <tr>\n",
       "      <th>Mouse ID</th>\n",
       "      <th></th>\n",
       "      <th></th>\n",
       "      <th></th>\n",
       "      <th></th>\n",
       "      <th></th>\n",
       "      <th></th>\n",
       "      <th></th>\n",
       "    </tr>\n",
       "  </thead>\n",
       "  <tbody>\n",
       "    <tr>\n",
       "      <th>k403</th>\n",
       "      <td>Ramicane</td>\n",
       "      <td>Male</td>\n",
       "      <td>21</td>\n",
       "      <td>16</td>\n",
       "      <td>0</td>\n",
       "      <td>45.000000</td>\n",
       "      <td>0</td>\n",
       "    </tr>\n",
       "    <tr>\n",
       "      <th>k403</th>\n",
       "      <td>Ramicane</td>\n",
       "      <td>Male</td>\n",
       "      <td>21</td>\n",
       "      <td>16</td>\n",
       "      <td>5</td>\n",
       "      <td>38.825898</td>\n",
       "      <td>0</td>\n",
       "    </tr>\n",
       "    <tr>\n",
       "      <th>k403</th>\n",
       "      <td>Ramicane</td>\n",
       "      <td>Male</td>\n",
       "      <td>21</td>\n",
       "      <td>16</td>\n",
       "      <td>10</td>\n",
       "      <td>35.014271</td>\n",
       "      <td>1</td>\n",
       "    </tr>\n",
       "    <tr>\n",
       "      <th>k403</th>\n",
       "      <td>Ramicane</td>\n",
       "      <td>Male</td>\n",
       "      <td>21</td>\n",
       "      <td>16</td>\n",
       "      <td>15</td>\n",
       "      <td>34.223992</td>\n",
       "      <td>1</td>\n",
       "    </tr>\n",
       "    <tr>\n",
       "      <th>k403</th>\n",
       "      <td>Ramicane</td>\n",
       "      <td>Male</td>\n",
       "      <td>21</td>\n",
       "      <td>16</td>\n",
       "      <td>20</td>\n",
       "      <td>32.997729</td>\n",
       "      <td>1</td>\n",
       "    </tr>\n",
       "  </tbody>\n",
       "</table>\n",
       "</div>"
      ],
      "text/plain": [
       "         Drug Regimen   Sex  Age (months)  Weight (g)  Timepoint  \\\n",
       "Mouse ID                                                           \n",
       "k403         Ramicane  Male            21          16          0   \n",
       "k403         Ramicane  Male            21          16          5   \n",
       "k403         Ramicane  Male            21          16         10   \n",
       "k403         Ramicane  Male            21          16         15   \n",
       "k403         Ramicane  Male            21          16         20   \n",
       "\n",
       "          Tumor Volume (mm3)  Metastatic Sites  \n",
       "Mouse ID                                        \n",
       "k403               45.000000                 0  \n",
       "k403               38.825898                 0  \n",
       "k403               35.014271                 1  \n",
       "k403               34.223992                 1  \n",
       "k403               32.997729                 1  "
      ]
     },
     "execution_count": 5,
     "metadata": {},
     "output_type": "execute_result"
    }
   ],
   "source": [
    "# Create a clean DataFrame by dropping the duplicate mouse by its ID.\n",
    "mouse_study_cleaned = mouse_study.drop('g989', axis=0)\n",
    "mouse_study_cleaned = mouse_study_cleaned.rename(columns={\"Age_months\": \"Age (months)\"})\n",
    "mouse_study_cleaned.head()"
   ]
  },
  {
   "cell_type": "code",
   "execution_count": 6,
   "metadata": {},
   "outputs": [
    {
     "data": {
      "text/plain": [
       "248"
      ]
     },
     "execution_count": 6,
     "metadata": {},
     "output_type": "execute_result"
    }
   ],
   "source": [
    "# Checking the number of mice in the clean DataFrame.\n",
    "mouse_study_cleaned = mouse_study_cleaned.reset_index()\n",
    "len(mouse_study_cleaned['Mouse ID'].unique())"
   ]
  },
  {
   "cell_type": "markdown",
   "metadata": {},
   "source": [
    "## Summary Statistics"
   ]
  },
  {
   "cell_type": "code",
   "execution_count": 7,
   "metadata": {},
   "outputs": [
    {
     "name": "stdout",
     "output_type": "stream",
     "text": [
      "                   Mean     Median   Variance       STD       SEM\n",
      "Drug Regimen                                                     \n",
      "Capomulin     40.675741  41.557809  24.947764  4.994774  0.329346\n",
      "Ceftamin      52.591172  51.776157  39.290177  6.268188  0.469821\n",
      "Infubinol     52.884795  51.820584  43.128684  6.567243  0.492236\n",
      "Ketapril      55.235638  53.698743  68.553577  8.279709  0.603860\n",
      "Naftisol      54.331565  52.509285  66.173479  8.134708  0.596466\n",
      "Placebo       54.033581  52.288934  61.168083  7.821003  0.581331\n",
      "Propriva      52.320930  50.446266  43.852013  6.622085  0.544332\n",
      "Ramicane      40.216745  40.673236  23.486704  4.846308  0.320955\n",
      "Stelasyn      54.233149  52.431737  59.450562  7.710419  0.573111\n",
      "Zoniferol     53.236507  51.818479  48.533355  6.966589  0.516398\n"
     ]
    }
   ],
   "source": [
    "# Generate a summary statistics table of mean, median, variance, standard deviation, and SEM of the tumor volume for each regimen\n",
    "# Use groupby and summary statistical methods\n",
    "\n",
    "# group data by drug regimen\n",
    "grouped_drug = mouse_study_cleaned.groupby([\"Drug Regimen\"])\n",
    "\n",
    "# calculate mean, median, variance, std, and sem\n",
    "tumor_mean = grouped_drug.mean()[\"Tumor Volume (mm3)\"]\n",
    "tumor_median = grouped_drug.median()[\"Tumor Volume (mm3)\"]\n",
    "tumor_var = grouped_drug.var()[\"Tumor Volume (mm3)\"]\n",
    "tumor_std = grouped_drug.std()[\"Tumor Volume (mm3)\"]\n",
    "tumor_sem = grouped_drug.sem()[\"Tumor Volume (mm3)\"]\n",
    "\n",
    "# create dataframe to hold summary\n",
    "summary_stats = pd.DataFrame({\n",
    "    \"Mean\": tumor_mean,\n",
    "    \"Median\": tumor_median,\n",
    "    \"Variance\": tumor_var,\n",
    "    \"STD\": tumor_std,\n",
    "    \"SEM\": tumor_sem\n",
    "})\n",
    "\n",
    "print(summary_stats)"
   ]
  },
  {
   "cell_type": "code",
   "execution_count": 8,
   "metadata": {},
   "outputs": [
    {
     "name": "stdout",
     "output_type": "stream",
     "text": [
      "             Tumor Volume (mm3)                                          \n",
      "                           mean     median        var       std       sem\n",
      "Drug Regimen                                                             \n",
      "Capomulin             40.675741  41.557809  24.947764  4.994774  0.329346\n",
      "Ceftamin              52.591172  51.776157  39.290177  6.268188  0.469821\n",
      "Infubinol             52.884795  51.820584  43.128684  6.567243  0.492236\n",
      "Ketapril              55.235638  53.698743  68.553577  8.279709  0.603860\n",
      "Naftisol              54.331565  52.509285  66.173479  8.134708  0.596466\n",
      "Placebo               54.033581  52.288934  61.168083  7.821003  0.581331\n",
      "Propriva              52.320930  50.446266  43.852013  6.622085  0.544332\n",
      "Ramicane              40.216745  40.673236  23.486704  4.846308  0.320955\n",
      "Stelasyn              54.233149  52.431737  59.450562  7.710419  0.573111\n",
      "Zoniferol             53.236507  51.818479  48.533355  6.966589  0.516398\n"
     ]
    }
   ],
   "source": [
    "# Generate a summary statistics table of mean, median, variance, standard deviation, and SEM of the tumor volume for each regimen\n",
    "\n",
    "# Using the aggregation method, produce the same summary statistics in a single line\n",
    "# (https://pandas.pydata.org/docs/getting_started/intro_tutorials/06_calculate_statistics.html)\n",
    "# (https://pandas.pydata.org/docs/reference/api/pandas.DataFrame.agg.html#pandas.DataFrame.agg)\n",
    "summary_agg = mouse_study_cleaned[[\"Drug Regimen\", \"Tumor Volume (mm3)\"]].groupby(\"Drug Regimen\").agg(['mean', 'median', 'var', 'std', 'sem'])\n",
    "\n",
    "print(summary_agg)"
   ]
  },
  {
   "cell_type": "markdown",
   "metadata": {},
   "source": [
    "## Bar and Pie Charts"
   ]
  },
  {
   "cell_type": "code",
   "execution_count": 9,
   "metadata": {},
   "outputs": [
    {
     "data": {
      "text/plain": [
       "Text(0, 0.5, 'Number of Data Points')"
      ]
     },
     "execution_count": 9,
     "metadata": {},
     "output_type": "execute_result"
    },
    {
     "data": {
      "image/png": "[encoded data removed]",
      "text/plain": [
       "<Figure size 432x288 with 1 Axes>"
      ]
     },
     "metadata": {
      "needs_background": "light"
     },
     "output_type": "display_data"
    }
   ],
   "source": [
    "# Generate a bar plot showing the total number of timepoints for all mice tested for each drug regimen using Pandas.\n",
    "# (https://pandas.pydata.org/docs/reference/api/pandas.DataFrame.plot.bar.html)\n",
    "bar_plot = mouse_study_cleaned[\"Drug Regimen\"].value_counts().plot.bar(width=0.7)\n",
    "\n",
    "# create axis labels\n",
    "bar_plot.set_title(\"Number of Timepoints per Regimen\")\n",
    "bar_plot.set_xlabel(\"Drug Regimen\")\n",
    "bar_plot.set_ylabel(\"Number of Data Points\")"
   ]
  },
  {
   "cell_type": "code",
   "execution_count": 10,
   "metadata": {},
   "outputs": [
    {
     "data": {
      "image/png": "[encoded data removed]",
      "text/plain": [
       "<Figure size 432x288 with 1 Axes>"
      ]
     },
     "metadata": {
      "needs_background": "light"
     },
     "output_type": "display_data"
    }
   ],
   "source": [
    "# Generate a bar plot showing the total number of timepoints for all mice tested for each drug regimen using pyplot.\n",
    "\n",
    "# calculate number of timepoints per regimen\n",
    "y_axis = mouse_study_cleaned[\"Drug Regimen\"].value_counts()\n",
    "\n",
    "# x_axis\n",
    "x_axis = mouse_study_cleaned[\"Drug Regimen\"].value_counts().index\n",
    "\n",
    "# create bar plot\n",
    "plt.bar(x_axis, y_axis, width=0.7)\n",
    "\n",
    "# create axis labels\n",
    "plt.xlabel(\"Drug Regimen\")\n",
    "plt.ylabel(\"Number of Data Points\")\n",
    "plt.title(\"Number of Timepoints per Regimen\")\n",
    "\n",
    "# rotate ticks for legibility\n",
    "plt.xticks(rotation=35)\n",
    "\n",
    "plt.show()"
   ]
  },
  {
   "cell_type": "code",
   "execution_count": 11,
   "metadata": {
    "scrolled": false
   },
   "outputs": [
    {
     "data": {
      "text/plain": [
       "Text(0.5, 1.0, 'Distribution by Sex')"
      ]
     },
     "execution_count": 11,
     "metadata": {},
     "output_type": "execute_result"
    },
    {
     "data": {
      "image/png": "[encoded data removed]",
      "text/plain": [
       "<Figure size 432x288 with 1 Axes>"
      ]
     },
     "metadata": {},
     "output_type": "display_data"
    }
   ],
   "source": [
    "# Generate a pie plot showing the distribution of female versus male mice using Pandas\n",
    "\n",
    "# each mouse has different number of data points, so it's not accurate to simply use mouse_study_cleaned[\"Sex\"].value_counts()\n",
    "# first we'll separate the data we want: sex of each unique mouse ID\n",
    "# (https://pandas.pydata.org/pandas-docs/stable/user_guide/advanced.html)\n",
    "groupedBy_sex = list(zip(mouse_study_cleaned[\"Sex\"], mouse_study_cleaned[\"Mouse ID\"].unique()))\n",
    "groupedBy_sex_df = pd.DataFrame(groupedBy_sex)\n",
    "\n",
    "#create pie plot\n",
    "data = groupedBy_sex_df[0].value_counts()\n",
    "labels = ['male', 'female']\n",
    "\n",
    "pie_plot = data.plot.pie(labels=labels, autopct='%1.1f%%')\n",
    "pie_plot.set_ylabel('')\n",
    "pie_plot.set_title(\"Distribution by Sex\")"
   ]
  },
  {
   "cell_type": "code",
   "execution_count": 12,
   "metadata": {},
   "outputs": [
    {
     "data": {
      "image/png": "[encoded data removed]",
      "text/plain": [
       "<Figure size 432x288 with 1 Axes>"
      ]
     },
     "metadata": {},
     "output_type": "display_data"
    }
   ],
   "source": [
    "# Generate a pie plot showing the distribution of female versus male mice using pyplot\n",
    "data = groupedBy_sex_df[0].value_counts()\n",
    "labels = ['male', 'female']\n",
    "\n",
    "plt.pie(data, labels=labels, autopct='%1.1f%%')\n",
    "plt.title(\"Distribution by Sex\")\n",
    "plt.show()"
   ]
  },
  {
   "cell_type": "markdown",
   "metadata": {},
   "source": [
    "## Quartiles, Outliers and Boxplots"
   ]
  },
  {
   "cell_type": "code",
   "execution_count": 13,
   "metadata": {},
   "outputs": [
    {
     "data": {
      "text/html": [
       "<div>\n",
       "<style scoped>\n",
       "    .dataframe tbody tr th:only-of-type {\n",
       "        vertical-align: middle;\n",
       "    }\n",
       "\n",
       "    .dataframe tbody tr th {\n",
       "        vertical-align: top;\n",
       "    }\n",
       "\n",
       "    .dataframe thead th {\n",
       "        text-align: right;\n",
       "    }\n",
       "</style>\n",
       "<table border=\"1\" class=\"dataframe\">\n",
       "  <thead>\n",
       "    <tr style=\"text-align: right;\">\n",
       "      <th></th>\n",
       "      <th>Mouse ID</th>\n",
       "      <th>Drug Regimen</th>\n",
       "      <th>Sex</th>\n",
       "      <th>Age (months)</th>\n",
       "      <th>Weight (g)</th>\n",
       "      <th>Timepoint</th>\n",
       "      <th>Tumor Volume (mm3)</th>\n",
       "      <th>Metastatic Sites</th>\n",
       "      <th>Max Timepoint</th>\n",
       "    </tr>\n",
       "  </thead>\n",
       "  <tbody>\n",
       "    <tr>\n",
       "      <th>0</th>\n",
       "      <td>k403</td>\n",
       "      <td>Ramicane</td>\n",
       "      <td>Male</td>\n",
       "      <td>21</td>\n",
       "      <td>16</td>\n",
       "      <td>0</td>\n",
       "      <td>45.000000</td>\n",
       "      <td>0</td>\n",
       "      <td>45</td>\n",
       "    </tr>\n",
       "    <tr>\n",
       "      <th>1</th>\n",
       "      <td>k403</td>\n",
       "      <td>Ramicane</td>\n",
       "      <td>Male</td>\n",
       "      <td>21</td>\n",
       "      <td>16</td>\n",
       "      <td>5</td>\n",
       "      <td>38.825898</td>\n",
       "      <td>0</td>\n",
       "      <td>45</td>\n",
       "    </tr>\n",
       "    <tr>\n",
       "      <th>2</th>\n",
       "      <td>k403</td>\n",
       "      <td>Ramicane</td>\n",
       "      <td>Male</td>\n",
       "      <td>21</td>\n",
       "      <td>16</td>\n",
       "      <td>10</td>\n",
       "      <td>35.014271</td>\n",
       "      <td>1</td>\n",
       "      <td>45</td>\n",
       "    </tr>\n",
       "    <tr>\n",
       "      <th>3</th>\n",
       "      <td>k403</td>\n",
       "      <td>Ramicane</td>\n",
       "      <td>Male</td>\n",
       "      <td>21</td>\n",
       "      <td>16</td>\n",
       "      <td>15</td>\n",
       "      <td>34.223992</td>\n",
       "      <td>1</td>\n",
       "      <td>45</td>\n",
       "    </tr>\n",
       "    <tr>\n",
       "      <th>4</th>\n",
       "      <td>k403</td>\n",
       "      <td>Ramicane</td>\n",
       "      <td>Male</td>\n",
       "      <td>21</td>\n",
       "      <td>16</td>\n",
       "      <td>20</td>\n",
       "      <td>32.997729</td>\n",
       "      <td>1</td>\n",
       "      <td>45</td>\n",
       "    </tr>\n",
       "  </tbody>\n",
       "</table>\n",
       "</div>"
      ],
      "text/plain": [
       "  Mouse ID Drug Regimen   Sex  Age (months)  Weight (g)  Timepoint  \\\n",
       "0     k403     Ramicane  Male            21          16          0   \n",
       "1     k403     Ramicane  Male            21          16          5   \n",
       "2     k403     Ramicane  Male            21          16         10   \n",
       "3     k403     Ramicane  Male            21          16         15   \n",
       "4     k403     Ramicane  Male            21          16         20   \n",
       "\n",
       "   Tumor Volume (mm3)  Metastatic Sites  Max Timepoint  \n",
       "0           45.000000                 0             45  \n",
       "1           38.825898                 0             45  \n",
       "2           35.014271                 1             45  \n",
       "3           34.223992                 1             45  \n",
       "4           32.997729                 1             45  "
      ]
     },
     "execution_count": 13,
     "metadata": {},
     "output_type": "execute_result"
    }
   ],
   "source": [
    "# Calculate the final tumor volume of each mouse across four of the treatment regimens:  \n",
    "# Capomulin, Ramicane, Infubinol, and Ceftamin\n",
    "\n",
    "# Start by getting the last (greatest) timepoint for each mouse\n",
    "max_tp = pd.DataFrame(mouse_study_cleaned.groupby(\"Mouse ID\")[\"Timepoint\"].max())\n",
    "max_tp\n",
    "# Merge this group df with the original dataframe to get the tumor volume at the last timepoint\n",
    "merged_timepoint = pd.merge(mouse_study_cleaned, max_tp, on=\"Mouse ID\")\n",
    "merged_timepoint = merged_timepoint.rename(columns={\"Timepoint_x\": \"Timepoint\", \"Timepoint_y\": \"Max Timepoint\"})\n",
    "merged_timepoint.head()"
   ]
  },
  {
   "cell_type": "code",
   "execution_count": 14,
   "metadata": {},
   "outputs": [
    {
     "name": "stdout",
     "output_type": "stream",
     "text": [
      "IQR for Capomulin: 7.781863460000004\n",
      "Lower Bound (Capomulin): 20.70456164999999\n",
      "Upper Bound (Capomulin): 51.83201549\n",
      "Number of Outliers (Capomulin): 0\n",
      "-----------------------------------\n",
      "IQR for Ramicane: 9.098536719999998\n",
      "Lower Bound (Ramicane): 17.912664470000003\n",
      "Upper Bound (Ramicane): 54.30681135\n",
      "Number of Outliers (Ramicane): 0\n",
      "-----------------------------------\n",
      "IQR for Infubinol: 11.477135160000003\n",
      "Lower Bound (Infubinol): 36.83290494999999\n",
      "Upper Bound (Infubinol): 82.74144559000001\n",
      "Number of Outliers (Infubinol): 1\n",
      "-----------------------------------\n",
      "IQR for Ceftamin: 15.577752179999997\n",
      "Lower Bound (Ceftamin): 25.355449580000002\n",
      "Upper Bound (Ceftamin): 87.66645829999999\n",
      "Number of Outliers (Ceftamin): 0\n",
      "-----------------------------------\n"
     ]
    }
   ],
   "source": [
    "# Put treatments into a list for for loop (and later for plot labels)\n",
    "# Calculate the IQR and quantitatively determine if there are any potential outliers.\n",
    "drugs = [\"Capomulin\", \"Ramicane\", \"Infubinol\", \"Ceftamin\"]\n",
    "drug_tumorVolume = []\n",
    "\n",
    "# locate drugs from 'drugs' list in merged_timepoint\n",
    "for drug in drugs:\n",
    "    \n",
    "    drugs_match = merged_timepoint.loc[merged_timepoint[\"Drug Regimen\"] == drug]\n",
    "    \n",
    "    # within drugs_match, isolate rows where Timepoint = Max Timepoint\n",
    "    max_time = drugs_match.loc[drugs_match[\"Timepoint\"] == drugs_match[\"Max Timepoint\"]]\n",
    "    \n",
    "    # create series containing tumor volumes at Max Timepoint\n",
    "    volumes = max_time[\"Tumor Volume (mm3)\"]\n",
    "    drug_tumorVolume.append(volumes)\n",
    "    \n",
    "    # calculate and print IQR for each regimen\n",
    "    # (https://pandas.pydata.org/docs/reference/api/pandas.DataFrame.quantile.html)\n",
    "    quartiles = volumes.quantile([0.25, 0.5, 0.75])\n",
    "    q1 = quartiles[0.25]\n",
    "    q3 = quartiles[0.75]\n",
    "    iqr = q3 - q1\n",
    "    \n",
    "    print(f\"IQR for {drug}: {iqr}\")\n",
    "    \n",
    "    # calculate and print upper / lower bounds to identify outliers\n",
    "    lower_bound = q1 - (1.5 * iqr)\n",
    "    upper_bound = q3 + (1.5 * iqr)\n",
    "    \n",
    "    print(f\"Lower Bound ({drug}): {lower_bound}\")\n",
    "    print(f\"Upper Bound ({drug}): {upper_bound}\")\n",
    "    \n",
    "    # check for any outliers\n",
    "    outliers_count = (volumes.loc[(max_time[\"Tumor Volume (mm3)\"] >= upper_bound) | (max_time[\"Tumor Volume (mm3)\"] <= lower_bound)]).count()\n",
    "    print(f\"Number of Outliers ({drug}): {outliers_count}\")\n",
    "    print(\"-----------------------------------\")\n",
    "    "
   ]
  },
  {
   "cell_type": "code",
   "execution_count": 15,
   "metadata": {},
   "outputs": [
    {
     "data": {
      "image/png": "[encoded data removed]",
      "text/plain": [
       "<Figure size 432x288 with 1 Axes>"
      ]
     },
     "metadata": {
      "needs_background": "light"
     },
     "output_type": "display_data"
    }
   ],
   "source": [
    "# Generate a box plot of the final tumor volume of each mouse across four regimens of interest\n",
    "# (https://matplotlib.org/stable/api/_as_gen/matplotlib.pyplot.boxplot.html)\n",
    "plt.boxplot(drug_tumorVolume)\n",
    "\n",
    "plt.title(\"Final Tumor Volume By Regimen\")\n",
    "plt.ylabel(\"Tumor Volume (mm3)\")\n",
    "# rename ticks as drug regimens\n",
    "# (https://matplotlib.org/stable/api/_as_gen/matplotlib.pyplot.xticks.html)\n",
    "plt.xticks([1, 2, 3, 4], [\"Capomulin\", \"Ramicane\", \"Infubinol\", \"Ceftamin\"])\n",
    "plt.show()"
   ]
  },
  {
   "cell_type": "markdown",
   "metadata": {},
   "source": [
    "## Line and Scatter Plots"
   ]
  },
  {
   "cell_type": "code",
   "execution_count": 19,
   "metadata": {},
   "outputs": [
    {
     "data": {
      "image/png": "[encoded data removed]",
      "text/plain": [
       "<Figure size 432x288 with 1 Axes>"
      ]
     },
     "metadata": {
      "needs_background": "light"
     },
     "output_type": "display_data"
    }
   ],
   "source": [
    "# Generate a line plot of tumor volume vs. time point for a mouse treated with Capomulin\n",
    "\n",
    "# retrieve data for mice treated with Capomulin\n",
    "mice_Capomulin = mouse_study_cleaned.loc[mouse_study_cleaned[\"Drug Regimen\"] == \"Capomulin\"]\n",
    "\n",
    "# isolate tumor volume and timepoint for a single mouse treated with Capomulin\n",
    "mouse_sampleCap = mouse_study_cleaned.loc[(mouse_study_cleaned[\"Mouse ID\"] == \"s185\"), [\"Timepoint\", \"Tumor Volume (mm3)\"]]\n",
    "\n",
    "# plot line graph - timepoint as x-axis and tumor volume as y-axis\n",
    "# (https://matplotlib.org/stable/api/_as_gen/matplotlib.pyplot.plot.html)\n",
    "plt.plot(mouse_sampleCap[\"Timepoint\"], mouse_sampleCap[\"Tumor Volume (mm3)\"], marker='o')\n",
    "\n",
    "# title and labels\n",
    "plt.title(\"Tumor Volume over Time (Capomulin, subject s185)\")\n",
    "plt.xlabel(\"Timepoint\")\n",
    "plt.ylabel(\"Tumor Volume (mm3)\")\n",
    "\n",
    "plt.show()\n"
   ]
  },
  {
   "cell_type": "code",
   "execution_count": 23,
   "metadata": {},
   "outputs": [
    {
     "data": {
      "image/png": "[encoded data removed]",
      "text/plain": [
       "<Figure size 432x288 with 1 Axes>"
      ]
     },
     "metadata": {
      "needs_background": "light"
     },
     "output_type": "display_data"
    }
   ],
   "source": [
    "# Generate a scatter plot of average tumor volume vs. mouse weight for the Capomulin regimen\n",
    "\n",
    "# since we already found data for mice treated with Capomulin, we need to calculate average tumor size per mouse\n",
    "avg_tumorVol = mice_Capomulin.groupby(\"Mouse ID\")[\"Tumor Volume (mm3)\"].mean()\n",
    "\n",
    "# retrieve weight of mice\n",
    "weight_Cap = mice_Capomulin.groupby(\"Mouse ID\")[\"Weight (g)\"].unique()\n",
    "\n",
    "# create scatter plot\n",
    "plt.scatter(weight_Cap, avg_tumorVol)\n",
    "\n",
    "# title and labels\n",
    "plt.title(\"Average Tumor Volume vs. Weight (Capomulin)\")\n",
    "plt.xlabel(\"Weight (g)\")\n",
    "plt.ylabel(\"Tumor Volume (mm3)\")\n",
    "\n",
    "plt.show()\n"
   ]
  },
  {
   "cell_type": "markdown",
   "metadata": {},
   "source": [
    "## Correlation and Regression"
   ]
  },
  {
   "cell_type": "code",
   "execution_count": null,
   "metadata": {},
   "outputs": [],
   "source": [
    "# Calculate the correlation coefficient and linear regression model \n",
    "# for mouse weight and average tumor volume for the Capomulin regimen\n"
   ]
  },
  {
   "cell_type": "code",
   "execution_count": null,
   "metadata": {},
   "outputs": [],
   "source": []
  }
 ],
 "metadata": {
  "anaconda-cloud": {},
  "kernelspec": {
   "display_name": "Python 3 (ipykernel)",
   "language": "python",
   "name": "python3"
  },
  "language_info": {
   "codemirror_mode": {
    "name": "ipython",
    "version": 3
   },
   "file_extension": ".py",
   "mimetype": "text/x-python",
   "name": "python",
   "nbconvert_exporter": "python",
   "pygments_lexer": "ipython3",
   "version": "3.9.8"
  }
 },
 "nbformat": 4,
 "nbformat_minor": 4
}
